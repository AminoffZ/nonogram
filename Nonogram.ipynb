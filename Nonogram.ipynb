{
 "cells": [
  {
   "cell_type": "markdown",
   "metadata": {},
   "source": [
    "# Making a Nonogram: https://en.wikipedia.org/wiki/Nonogram"
   ]
  },
  {
   "cell_type": "markdown",
   "metadata": {},
   "source": [
    "## Plan"
   ]
  },
  {
   "cell_type": "markdown",
   "metadata": {},
   "source": [
    "1. Take input of length (integer) and height (integer).\n",
    "2. Build grid where a cell is either true or false.\n",
    "3. Add a list of clue numbers corresponding with each column and row.\n",
    "4. Draw.\n",
    "5. Play!"
   ]
  },
  {
   "cell_type": "code",
   "execution_count": 1,
   "metadata": {},
   "outputs": [],
   "source": [
    "import random"
   ]
  },
  {
   "cell_type": "code",
   "execution_count": 2,
   "metadata": {},
   "outputs": [],
   "source": [
    "width = 4\n",
    "height = 6"
   ]
  },
  {
   "cell_type": "code",
   "execution_count": 3,
   "metadata": {},
   "outputs": [],
   "source": [
    "gridDict = {\"X\": [], \"Y\": []}\n",
    "numberList = {\"X\": [], \"Y\": []}"
   ]
  },
  {
   "cell_type": "code",
   "execution_count": 4,
   "metadata": {},
   "outputs": [],
   "source": [
    "def AddXList():\n",
    "    xDict = []\n",
    "    for i in range(height):\n",
    "        xList = []\n",
    "        for j in range(width):\n",
    "            xList.append(random.choice([True, False]))\n",
    "        xDict.append(xList)\n",
    "        \n",
    "    gridDict[\"X\"] = xDict"
   ]
  },
  {
   "cell_type": "code",
   "execution_count": 5,
   "metadata": {},
   "outputs": [],
   "source": [
    "def AddYList():\n",
    "    yDict = []\n",
    "    for i in range(width):\n",
    "        yList = []\n",
    "        for xList in gridDict[\"X\"]:\n",
    "            yList.append(xList[i])\n",
    "        i += 1   \n",
    "        yDict.append(yList)\n",
    "    gridDict[\"Y\"] = yDict"
   ]
  },
  {
   "cell_type": "code",
   "execution_count": 6,
   "metadata": {},
   "outputs": [],
   "source": [
    "def CreateNumberList(gridList):\n",
    "    numberList = []\n",
    "    count = 0\n",
    "    for i in gridList:\n",
    "        if i:\n",
    "            count += 1\n",
    "        # Jävla cp apa hu tänkte du här???\n",
    "        elif count > 0:\n",
    "            numberList.append(count)\n",
    "            count = 0\n",
    "    \n",
    "    if count > 0:\n",
    "        numberList.append(count)\n",
    "\n",
    "    # If list is empty\n",
    "    if not numberList:\n",
    "        numberList.append(0)\n",
    "    \n",
    "    return numberList"
   ]
  },
  {
   "cell_type": "code",
   "execution_count": 7,
   "metadata": {},
   "outputs": [],
   "source": [
    "def AddClueList():\n",
    "    for key in gridDict:\n",
    "        for gridList in gridDict[key]:\n",
    "            numberList[key].append(CreateNumberList(gridList))"
   ]
  },
  {
   "cell_type": "code",
   "execution_count": 8,
   "metadata": {},
   "outputs": [],
   "source": [
    "AddXList()"
   ]
  },
  {
   "cell_type": "code",
   "execution_count": 9,
   "metadata": {},
   "outputs": [],
   "source": [
    "AddYList()"
   ]
  },
  {
   "cell_type": "code",
   "execution_count": 10,
   "metadata": {},
   "outputs": [],
   "source": [
    "AddClueList()"
   ]
  },
  {
   "cell_type": "code",
   "execution_count": 11,
   "metadata": {},
   "outputs": [
    {
     "output_type": "execute_result",
     "data": {
      "text/plain": [
       "{'X': [[False, False, True, True],\n",
       "  [False, False, False, False],\n",
       "  [False, True, False, False],\n",
       "  [False, False, False, False],\n",
       "  [True, False, False, True],\n",
       "  [False, True, True, True]],\n",
       " 'Y': [[False, False, False, False, True, False],\n",
       "  [False, False, True, False, False, True],\n",
       "  [True, False, False, False, False, True],\n",
       "  [True, False, False, False, True, True]]}"
      ]
     },
     "metadata": {},
     "execution_count": 11
    }
   ],
   "source": [
    "gridDict"
   ]
  },
  {
   "cell_type": "code",
   "execution_count": 12,
   "metadata": {},
   "outputs": [
    {
     "output_type": "execute_result",
     "data": {
      "text/plain": [
       "{'X': [[2], [0], [1], [0], [1, 1], [3]], 'Y': [[1], [1, 1], [1, 1], [1, 2]]}"
      ]
     },
     "metadata": {},
     "execution_count": 12
    }
   ],
   "source": [
    "numberList"
   ]
  },
  {
   "cell_type": "code",
   "execution_count": null,
   "metadata": {},
   "outputs": [],
   "source": []
  }
 ],
 "metadata": {
  "kernelspec": {
   "name": "python391jvsc74a57bd0ee5cc6fef2d70a7e71ee3826687cbd150f18158e0b1eef11d4f4f92bb920e304",
   "display_name": "Python 3.9.1 64-bit"
  },
  "language_info": {
   "codemirror_mode": {
    "name": "ipython",
    "version": 3
   },
   "file_extension": ".py",
   "mimetype": "text/x-python",
   "name": "python",
   "nbconvert_exporter": "python",
   "pygments_lexer": "ipython3",
   "version": "3.9.1-final"
  },
  "metadata": {
   "interpreter": {
    "hash": "ee5cc6fef2d70a7e71ee3826687cbd150f18158e0b1eef11d4f4f92bb920e304"
   }
  }
 },
 "nbformat": 4,
 "nbformat_minor": 2
}