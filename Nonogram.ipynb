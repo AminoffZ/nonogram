{
 "cells": [
  {
   "cell_type": "markdown",
   "metadata": {},
   "source": [
    "# Making a Nonogram: https://en.wikipedia.org/wiki/Nonogram"
   ]
  },
  {
   "cell_type": "markdown",
   "metadata": {},
   "source": [
    "## Plan"
   ]
  },
  {
   "cell_type": "markdown",
   "metadata": {},
   "source": [
    "1. Take input of length (integer) and height (integer).\n",
    "2. Build grid where a cell is either true or false.\n",
    "3. Add a list of clue numbers corresponding with each column and row.\n",
    "4. Draw.\n",
    "5. Play!"
   ]
  },
  {
   "cell_type": "code",
   "execution_count": 3,
   "metadata": {},
   "outputs": [],
   "source": [
    "import random"
   ]
  },
  {
   "cell_type": "code",
   "execution_count": 15,
   "metadata": {},
   "outputs": [],
   "source": [
    "size = 4"
   ]
  },
  {
   "cell_type": "code",
   "execution_count": 16,
   "metadata": {},
   "outputs": [],
   "source": [
    "gridDict = {\"X\": [], \"Y\": []}\n",
    "numberList = {\"X\": [], \"Y\": []}"
   ]
  },
  {
   "cell_type": "code",
   "execution_count": 6,
   "metadata": {},
   "outputs": [],
   "source": [
    "def AddXList():\n",
    "    xDict = []\n",
    "    for i in range(size):\n",
    "        xList = []\n",
    "        for i in range(size):\n",
    "            xList.append(random.choice([True, False]))\n",
    "        xDict.append(xList)\n",
    "        \n",
    "    gridDict[\"X\"] = xDict"
   ]
  },
  {
   "cell_type": "code",
   "execution_count": 7,
   "metadata": {},
   "outputs": [],
   "source": [
    "def AddYList():\n",
    "    yDict = []\n",
    "    count = 0\n",
    "    for xList in gridDict[\"X\"]:\n",
    "        yList = []\n",
    "        for xList in gridDict[\"X\"]:\n",
    "            yList.append(xList[count])\n",
    "        count += 1    \n",
    "        yDict.append(yList)\n",
    "    gridDict[\"Y\"] = yDict"
   ]
  },
  {
   "cell_type": "code",
   "execution_count": 8,
   "metadata": {},
   "outputs": [],
   "source": [
    "def CreateNumberList(gridList):\n",
    "    numberList = []\n",
    "    count = 0\n",
    "    for i in gridList:\n",
    "        if i:\n",
    "            count += 1\n",
    "        # Jävla cp apa hu tänkte du här???\n",
    "        elif count > 0:\n",
    "            numberList.append(count)\n",
    "            count = 0\n",
    "    \n",
    "    if count > 0:\n",
    "        numberList.append(count)\n",
    "\n",
    "    # If list is empty\n",
    "    if not numberList:\n",
    "        numberList.append(0)\n",
    "    \n",
    "    return numberList"
   ]
  },
  {
   "cell_type": "code",
   "execution_count": 9,
   "metadata": {},
   "outputs": [],
   "source": [
    "def AddClueList():\n",
    "    for key in gridDict:\n",
    "        for gridList in gridDict[key]:\n",
    "            numberList[key].append(CreateNumberList(gridList))"
   ]
  },
  {
   "cell_type": "code",
   "execution_count": 17,
   "metadata": {},
   "outputs": [],
   "source": [
    "AddXList()"
   ]
  },
  {
   "cell_type": "code",
   "execution_count": 18,
   "metadata": {},
   "outputs": [],
   "source": [
    "AddYList()"
   ]
  },
  {
   "cell_type": "code",
   "execution_count": 19,
   "metadata": {},
   "outputs": [],
   "source": [
    "AddClueList()"
   ]
  },
  {
   "cell_type": "code",
   "execution_count": 20,
   "metadata": {},
   "outputs": [
    {
     "output_type": "execute_result",
     "data": {
      "text/plain": [
       "{'X': [[False]], 'Y': [[False]]}"
      ]
     },
     "metadata": {},
     "execution_count": 20
    }
   ],
   "source": [
    "gridDict"
   ]
  },
  {
   "cell_type": "code",
   "execution_count": 21,
   "metadata": {},
   "outputs": [
    {
     "output_type": "execute_result",
     "data": {
      "text/plain": [
       "{'X': [[0]], 'Y': [[0]]}"
      ]
     },
     "metadata": {},
     "execution_count": 21
    }
   ],
   "source": [
    "numberList"
   ]
  },
  {
   "cell_type": "code",
   "execution_count": null,
   "metadata": {},
   "outputs": [],
   "source": []
  }
 ],
 "metadata": {
  "kernelspec": {
   "name": "python3",
   "display_name": "Python 3.9.1 64-bit",
   "metadata": {
    "interpreter": {
     "hash": "ee5cc6fef2d70a7e71ee3826687cbd150f18158e0b1eef11d4f4f92bb920e304"
    }
   }
  },
  "language_info": {
   "codemirror_mode": {
    "name": "ipython",
    "version": 3
   },
   "file_extension": ".py",
   "mimetype": "text/x-python",
   "name": "python",
   "nbconvert_exporter": "python",
   "pygments_lexer": "ipython3",
   "version": "3.9.1-final"
  }
 },
 "nbformat": 4,
 "nbformat_minor": 2
}